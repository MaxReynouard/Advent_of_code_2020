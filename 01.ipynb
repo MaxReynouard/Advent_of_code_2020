{
 "cells": [
  {
   "cell_type": "markdown",
   "metadata": {},
   "source": [
    "## First problem :\n",
    "\n",
    "Before you leave, the Elves in accounting just need you to fix your expense report (your puzzle input); apparently, something isn't quite adding up.\n",
    "\n",
    "Specifically, they need you to find the two entries that sum to 2020 and then multiply those two numbers together.\n",
    "\n",
    "For example, suppose your expense report contained the following:\n",
    "\n",
    "1721\n",
    "979\n",
    "366\n",
    "299\n",
    "675\n",
    "1456\n",
    "In this list, the two entries that sum to 2020 are 1721 and 299. Multiplying them together produces 1721 * 299 = 514579, so the correct answer is 514579.\n",
    "\n",
    "Of course, your expense report is much larger. Find the two entries that sum to 2020; what do you get if you multiply them together?\n",
    "\n",
    "file in 'data/01_expenses.txt'"
   ]
  },
  {
   "cell_type": "code",
   "execution_count": 74,
   "metadata": {},
   "outputs": [],
   "source": [
    "target = 2020\n",
    "expense_file = \"data/01_expenses.txt\""
   ]
  },
  {
   "cell_type": "code",
   "execution_count": 76,
   "metadata": {
    "code_folding": [
     0
    ]
   },
   "outputs": [],
   "source": [
    "def print_answer(expense0, expense1, target = target):\n",
    "    if expense0 is not None :\n",
    "        print(f'''\n",
    "        The expenses that add up to {target} are {expense0} and {expense1}. \n",
    "        Their product is {expense0 * expense1}.\n",
    "        ''')\n",
    "    else :\n",
    "        print(f\"Couldn't find a solution for a sum of {target}\")\n",
    "        \n",
    "with open (expense_file, \"r\") as expenses :\n",
    "    expenses=[int(e.strip()) for e in expenses.readlines()]"
   ]
  },
  {
   "cell_type": "markdown",
   "metadata": {},
   "source": [
    "#### brut force solution:\n",
    "we loop through all combinations of expenses : O(n²) time complexity for the algorithm"
   ]
  },
  {
   "cell_type": "code",
   "execution_count": 77,
   "metadata": {
    "code_folding": []
   },
   "outputs": [
    {
     "name": "stdout",
     "output_type": "stream",
     "text": [
      "321 µs ± 12.5 µs per loop (mean ± std. dev. of 7 runs, 1000 loops each)\n",
      "\n",
      "        The expenses that add up to 2020 are 1184 and 836. \n",
      "        Their product is 989824.\n",
      "        \n"
     ]
    }
   ],
   "source": [
    "import itertools\n",
    "\n",
    "def brute_force(expenses, target) :\n",
    "\n",
    "    for e0, e1 in itertools.combinations(expenses, 2) :\n",
    "        if e0 + e1 == target :\n",
    "            return (e0, e1)\n",
    "    else :\n",
    "        return None, None\n",
    "    \n",
    "expense0, expense1 = brute_force(expenses, target)\n",
    "\n",
    "%timeit brute_force(expenses, target)\n",
    "\n",
    "print_answer(expense0, expense1)"
   ]
  },
  {
   "cell_type": "markdown",
   "metadata": {},
   "source": [
    "#### optimised sorted then 2 pointers solution:\n",
    "by sorting first this allows us to loop with 2 pointers in a smarter way, adding a 'big' expense to a 'small' one.\n",
    "the sort is O(n.log(n)), the loop O(n) in time complexity \n",
    "so the algorith is O(n.log(n)) in time complexity "
   ]
  },
  {
   "cell_type": "code",
   "execution_count": 83,
   "metadata": {
    "code_folding": []
   },
   "outputs": [
    {
     "name": "stdout",
     "output_type": "stream",
     "text": [
      "31.1 µs ± 4.3 µs per loop (mean ± std. dev. of 7 runs, 10000 loops each)\n",
      "\n",
      "        The expenses that add up to 2020 are 836 and 1184. \n",
      "        Their product is 989824.\n",
      "        \n"
     ]
    }
   ],
   "source": [
    "def sorted_2pointers(expenses, target, need_to_sort = True) :\n",
    "    \n",
    "    if need_to_sort :\n",
    "        expenses.sort()\n",
    "    \n",
    "    i, j = 0, len(expenses)-1\n",
    "    while i <= j:\n",
    "        e_small = expenses[i]\n",
    "        e_big = expenses[j]\n",
    "        if e_small + e_big > target :\n",
    "            j -= 1\n",
    "        elif e_small + e_big < target :\n",
    "            i += 1\n",
    "        else :\n",
    "            return e_small, e_big\n",
    "    else :\n",
    "        return None, None\n",
    "\n",
    "with open (expense_file, \"r\") as expenses :\n",
    "    expenses=[int(e.strip()) for e in expenses.readlines()]\n",
    "    \n",
    "expense0, expense1 = sorted_2pointers(expenses, target)\n",
    "\n",
    "%timeit sorted_2pointers(expenses, target)\n",
    "\n",
    "print_answer(expense0, expense1)"
   ]
  },
  {
   "cell_type": "markdown",
   "metadata": {},
   "source": [
    "## second problem :\n",
    "--- Part Two ---\n",
    "The Elves in accounting are thankful for your help; one of them even offers you a starfish coin they had left over from a past vacation. They offer you a second one if you can find three numbers in your expense report that meet the same criteria.\n",
    "\n",
    "Using the above example again, the three entries that sum to 2020 are 979, 366, and 675. Multiplying them together produces the answer, 241861950.\n",
    "\n",
    "In your expense report, what is the product of the three entries that sum to 2020?"
   ]
  },
  {
   "cell_type": "code",
   "execution_count": 79,
   "metadata": {
    "code_folding": [
     0
    ]
   },
   "outputs": [],
   "source": [
    "def print_answer_2(expense0, expense1, expense2, target = target):\n",
    "    if expense0 is not None :\n",
    "        print(f'''\n",
    "        The expenses that add up to {target} are {expense0}, {expense1} and {expense2}. \n",
    "        Their product is {expense0 * expense1 * expense2}.\n",
    "        ''')\n",
    "    else :\n",
    "        print(f\"Couldn't find a solution for a sum of {target}\")"
   ]
  },
  {
   "cell_type": "markdown",
   "metadata": {},
   "source": [
    "#### brut force solution:\n",
    "we loop through all combinations of expenses : O(n^3) time complexity for the algorithm\n"
   ]
  },
  {
   "cell_type": "code",
   "execution_count": 84,
   "metadata": {
    "code_folding": []
   },
   "outputs": [
    {
     "name": "stdout",
     "output_type": "stream",
     "text": [
      "99.9 ms ± 8.71 ms per loop (mean ± std. dev. of 7 runs, 10 loops each)\n",
      "\n",
      "        The expenses that add up to 2020 are 1614, 210 and 196. \n",
      "        Their product is 66432240.\n",
      "        \n"
     ]
    }
   ],
   "source": [
    "import itertools\n",
    "\n",
    "def brute_force_2(expenses, target) :\n",
    "\n",
    "    for e0, e1, e2 in itertools.combinations(expenses, 3) :\n",
    "        if e0 + e1 + e2 == target :\n",
    "            return e0, e1, e2\n",
    "    else :\n",
    "        return None, None, None\n",
    "\n",
    "with open (expense_file, \"r\") as expenses :\n",
    "    expenses=[int(e.strip()) for e in expenses.readlines()]\n",
    "    \n",
    "expense0, expense1 , expense2 = brute_force_2(expenses, target)\n",
    "\n",
    "%timeit brute_force_2(expenses, target)\n",
    "\n",
    "print_answer_2(expense0, expense1, expense2)"
   ]
  },
  {
   "cell_type": "markdown",
   "metadata": {},
   "source": [
    "#### optimised sorted then 2 pointers solution:\n",
    "\n",
    "we can recycle previous solution to reduce time complexity to O(n²) :  \n",
    "we loop through 1 of the expense, and use previous O(n) algorithm (once already sorted) for a new target of target_old - expense\n"
   ]
  },
  {
   "cell_type": "code",
   "execution_count": 85,
   "metadata": {
    "code_folding": [
     0,
     12
    ]
   },
   "outputs": [
    {
     "name": "stdout",
     "output_type": "stream",
     "text": [
      "19 µs ± 1.23 µs per loop (mean ± std. dev. of 7 runs, 100000 loops each)\n",
      "\n",
      "        The expenses that add up to 2020 are 210, 1614 and 196. \n",
      "        Their product is 66432240.\n",
      "        \n"
     ]
    }
   ],
   "source": [
    "def sorted_2pointers_2(expenses, target, need_to_sort = True) :\n",
    "    \n",
    "    if need_to_sort :\n",
    "        expenses.sort()\n",
    "    \n",
    "    for expense2 in expenses :\n",
    "        expense0, expense1 = sorted_2pointers(expenses, target - expense2, False)\n",
    "        if expense0 is not None : \n",
    "            return expense0, expense1 , expense2\n",
    "    else :\n",
    "        return [None] * 3\n",
    "    \n",
    "with open (expense_file, \"r\") as expenses :\n",
    "    expenses=[int(e.strip()) for e in expenses.readlines()]\n",
    "    \n",
    "expense0, expense1 , expense2 = sorted_2pointers_2(expenses, target)\n",
    "\n",
    "%timeit sorted_2pointers_2(expenses, target)\n",
    "\n",
    "print_answer_2(expense0, expense1, expense2)"
   ]
  },
  {
   "cell_type": "code",
   "execution_count": null,
   "metadata": {},
   "outputs": [],
   "source": []
  }
 ],
 "metadata": {
  "kernelspec": {
   "display_name": "Python 3",
   "language": "python",
   "name": "python3"
  },
  "language_info": {
   "codemirror_mode": {
    "name": "ipython",
    "version": 3
   },
   "file_extension": ".py",
   "mimetype": "text/x-python",
   "name": "python",
   "nbconvert_exporter": "python",
   "pygments_lexer": "ipython3",
   "version": "3.7.9"
  }
 },
 "nbformat": 4,
 "nbformat_minor": 4
}
