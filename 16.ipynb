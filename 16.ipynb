{
 "cells": [
  {
   "cell_type": "markdown",
   "metadata": {},
   "source": [
    "## Day 16: Ticket Translation ---\n",
    "As you're walking to yet another connecting flight, you realize that one of the legs of your re-routed trip coming up is on a high-speed train. However, the train ticket you were given is in a language you don't understand. You should probably figure out what it says before you get to the train station after the next flight.\n",
    "\n",
    "Unfortunately, you can't actually read the words on the ticket. You can, however, read the numbers, and so you figure out the fields these tickets must have and the valid ranges for values in those fields.\n",
    "\n",
    "You collect the rules for ticket fields, the numbers on your ticket, and the numbers on other nearby tickets for the same train service (via the airport security cameras) together into a single document you can reference (your puzzle input).\n",
    "\n",
    "The rules for ticket fields specify a list of fields that exist somewhere on the ticket and the valid ranges of values for each field. For example, a rule like class: 1-3 or 5-7 means that one of the fields in every ticket is named class and can be any value in the ranges 1-3 or 5-7 (inclusive, such that 3 and 5 are both valid in this field, but 4 is not).  \n",
    "\n",
    "Each ticket is represented by a single line of comma-separated values. The values are the numbers on the ticket in the order they appear; every ticket has the same format. For example, consider this ticket:\n",
    "\n",
    ".--------------------------------------------------------.\n",
    "| ????: 101    ?????: 102   ??????????: 103     ???: 104 |\n",
    "|                                                        |\n",
    "| ??: 301  ??: 302             ???????: 303      ??????? |\n",
    "| ??: 401  ??: 402           ???? ????: 403    ????????? |\n",
    "'--------------------------------------------------------'\n",
    "Here, ? represents text in a language you don't understand. This ticket might be represented as 101,102,103,104,301,302,303,401,402,403; of course, the actual train tickets you're looking at are much more complicated. In any case, you've extracted just the numbers in such a way that the first number is always the same specific field, the second number is always a different specific field, and so on - you just don't know what each position actually means!\n",
    "\n",
    "Start by determining which tickets are completely invalid; these are tickets that contain values which aren't valid for any field. Ignore your ticket for now.\n",
    "\n",
    "For example, suppose you have the following notes:\n",
    "\n",
    "class: 1-3 or 5-7  \n",
    "row: 6-11 or 33-44  \n",
    "seat: 13-40 or 45-50  \n",
    "\n",
    "your ticket:  \n",
    "7,1,14\n",
    "\n",
    "nearby tickets:  \n",
    "7,3,47  \n",
    "40,4,50  \n",
    "55,2,20  \n",
    "38,6,12  \n",
    "It doesn't matter which position corresponds to which field; you can identify invalid nearby tickets by considering only whether tickets contain values that are not valid for any field. In this example, the values on the first nearby ticket are all valid for at least one field. This is not true of the other three nearby tickets: the values 4, 55, and 12 are are not valid for any field. Adding together all of the invalid values produces your ticket scanning error rate: 4 + 55 + 12 = 71.\n",
    "\n",
    "Consider the validity of the nearby tickets you scanned. What is your ticket scanning error rate?"
   ]
  },
  {
   "cell_type": "code",
   "execution_count": 114,
   "metadata": {},
   "outputs": [],
   "source": [
    "import numpy as np\n",
    "notes_file = \"data/16_notes.txt\""
   ]
  },
  {
   "cell_type": "code",
   "execution_count": 115,
   "metadata": {
    "code_folding": [
     11,
     14
    ]
   },
   "outputs": [],
   "source": [
    "# we read the file \n",
    "with open (notes_file, \"r\") as file :\n",
    "    info_type = 0 # 0 for instructions, 1 for your ticket, 2 for other tickets\n",
    "    \n",
    "#     inf_valid = []\n",
    "#     sup_valid = []\n",
    "    valid = {}\n",
    "    tickets = []\n",
    "    for line in file :\n",
    "        if line == '\\n' : continue\n",
    "            \n",
    "        if line[:12] == \"your ticket:\" :\n",
    "            info_type = 1 \n",
    "            continue\n",
    "        elif line[:15] == \"nearby tickets:\" :\n",
    "            info_type = 2\n",
    "            continue\n",
    "        \n",
    "        if info_type == 0:\n",
    "            field, rest = line.strip().split(': ')\n",
    "            for inst in rest.split(' or '):\n",
    "                inf, sup = inst.split('-')\n",
    "#                 inf_valid.append(int(inf))\n",
    "#                 sup_valid.append(int(sup))\n",
    "                valid[field] = valid.get(field,[]) + [(int(inf), int(sup))]\n",
    "        elif info_type == 1 :\n",
    "            myticket = [int(i) for i in line.strip().split(',')]\n",
    "        elif info_type == 2 :\n",
    "            tickets.append([int(i) for i in line.strip().split(',')])\n",
    "        else :\n",
    "            print('problem for this line :')\n",
    "            print(line)"
   ]
  },
  {
   "cell_type": "code",
   "execution_count": 130,
   "metadata": {
    "code_folding": [
     0,
     17
    ]
   },
   "outputs": [
    {
     "data": {
      "text/plain": [
       "32835"
      ]
     },
     "execution_count": 130,
     "metadata": {},
     "output_type": "execute_result"
    }
   ],
   "source": [
    "def fus_inst (insts) :\n",
    "    all_insts = []\n",
    "    for inst_list in insts :\n",
    "        for mini, maxi in inst_list :\n",
    "            all_insts.append([mini, maxi])\n",
    "    all_insts = np.array(all_insts)\n",
    "    # we sort according to minimums of interval\n",
    "    all_insts = all_insts[all_insts[:,0].argsort()]\n",
    "\n",
    "    fused_inst = all_insts[0:1,:]\n",
    "    for mini, maxi in all_insts[1:,:] :\n",
    "        if mini > fused_inst[-1,1]+1 :\n",
    "            fused_inst = np.append(fused_inst, [[mini, maxi]], 0)\n",
    "        else :\n",
    "            fused_inst[-1,1] = maxi\n",
    "    return fused_inst\n",
    "\n",
    "def check_in_insts(n, insts) :\n",
    "    i_small = 0\n",
    "    i_big = len(insts) - 1\n",
    "    \n",
    "    if i_big == 0 :\n",
    "        return insts[0,0] <= n <= insts[0,1]\n",
    "    \n",
    "    while i_small < i_big :\n",
    "        i = (i_small + i_big) // 2\n",
    "#         print(i_small, i_big, i)\n",
    "        if n < insts[i,0] :\n",
    "            i_big = i\n",
    "        else :\n",
    "            i_small = max(i, i_small + 1)\n",
    "#     print(i_small, i_big, i)\n",
    "\n",
    "    if n < insts[i+1,0] :\n",
    "        return n <= insts[i,1] and n >= insts[i,0]\n",
    "    return  n <= insts[i+1,1]\n",
    "\n",
    "insts = fus_inst(valid.values())\n",
    "tot = 0\n",
    "for t in tickets :\n",
    "    for val in t :\n",
    "        if not check_in_insts(val,insts) :\n",
    "            tot += val \n",
    "tot"
   ]
  },
  {
   "cell_type": "markdown",
   "metadata": {},
   "source": [
    "## Part Two ---\n",
    "Now that you've identified which tickets contain invalid values, discard those tickets entirely. Use the remaining valid tickets to determine which field is which.\n",
    "\n",
    "Using the valid ranges for each field, determine what order the fields appear on the tickets. The order is consistent between all tickets: if seat is the third field, it is the third field on every ticket, including your ticket.\n",
    "\n",
    "For example, suppose you have the following notes:\n",
    "\n",
    "class: 0-1 or 4-19  \n",
    "row: 0-5 or 8-19  \n",
    "seat: 0-13 or 16-19  \n",
    "\n",
    "your ticket:  \n",
    "11,12,13  \n",
    "\n",
    "nearby tickets:  \n",
    "3,9,18  \n",
    "15,1,5  \n",
    "5,14,9  \n",
    "Based on the nearby tickets in the above example, the first position must be row, the second position must be class, and the third position must be seat; you can conclude that in your ticket, class is 12, row is 11, and seat is 13.  \n",
    "\n",
    "Once you work out which field is which, look for the six fields on your ticket that start with the word departure. What do you get if you multiply those six values together?  "
   ]
  },
  {
   "cell_type": "code",
   "execution_count": 169,
   "metadata": {
    "code_folding": [
     2
    ]
   },
   "outputs": [],
   "source": [
    "notes_file = \"data/16_notes.txt\"\n",
    "# we read the file \n",
    "with open (notes_file, \"r\") as file :\n",
    "    info_type = 0 # 0 for instructions, 1 for your ticket, 2 for other tickets\n",
    "    \n",
    "#     inf_valid = []\n",
    "#     sup_valid = []\n",
    "    valid = {}\n",
    "    tickets = []\n",
    "    for line in file :\n",
    "        if line == '\\n' : continue\n",
    "            \n",
    "        if line[:12] == \"your ticket:\" :\n",
    "            info_type = 1 \n",
    "            continue\n",
    "        elif line[:15] == \"nearby tickets:\" :\n",
    "            info_type = 2\n",
    "            continue\n",
    "        \n",
    "        if info_type == 0:\n",
    "            field, rest = line.strip().split(': ')\n",
    "            for inst in rest.split(' or '):\n",
    "                inf, sup = inst.split('-')\n",
    "#                 inf_valid.append(int(inf))\n",
    "#                 sup_valid.append(int(sup))\n",
    "                valid[field] = valid.get(field,[]) + [(int(inf), int(sup))]\n",
    "        elif info_type == 1 :\n",
    "            myticket = [int(i) for i in line.strip().split(',')]\n",
    "        elif info_type == 2 :\n",
    "            tickets.append([int(i) for i in line.strip().split(',')])\n",
    "        else :\n",
    "            print('problem for this line :')\n",
    "            print(line)"
   ]
  },
  {
   "cell_type": "code",
   "execution_count": 189,
   "metadata": {},
   "outputs": [],
   "source": [
    "insts = fus_inst(valid.values())\n",
    "valid = {k: fus_inst([v]) for k,v in valid.items()}\n",
    "tot = 0\n",
    "\n",
    "# possible_field = {k : list(range(len(tickets[0]))) for k in valid.keys()}\n",
    "possible_class = [list(valid.keys()) for _ in range(len(tickets[0]))]\n",
    "\n",
    "for t in tickets :\n",
    "#     print(t)\n",
    "    skip_t = False\n",
    "    for val in t :\n",
    "        skip_t |= not check_in_insts(val,insts) \n",
    "#     print(skip_t)\n",
    "    if skip_t :\n",
    "        continue\n",
    "    for i, val in enumerate(t):\n",
    "        keep = []\n",
    "        for c in possible_class[i] :\n",
    "            if check_in_insts(val,valid[c]) :\n",
    "                keep.append(c)\n",
    "        possible_class[i] = keep\n",
    "#     break\n",
    "\n",
    "keep_going = True\n",
    "while keep_going :\n",
    "    keep_going = False\n",
    "    \n",
    "    for i in range(len(tickets[0])) :\n",
    "        if len(possible_class[i]) > 1 :\n",
    "            keep_going = True\n",
    "        else :\n",
    "            c = possible_class[i][0]\n",
    "            for j, pc in enumerate(possible_class) :\n",
    "                if j != i :\n",
    "                    if c in pc :\n",
    "                        pc.remove(c)\n",
    "        \n"
   ]
  },
  {
   "cell_type": "code",
   "execution_count": 196,
   "metadata": {},
   "outputs": [
    {
     "data": {
      "text/plain": [
       "514662805187"
      ]
     },
     "execution_count": 196,
     "metadata": {},
     "output_type": "execute_result"
    }
   ],
   "source": [
    "tot = 1 \n",
    "for i,c in enumerate(possible_class) :\n",
    "    c = c[0]\n",
    "    if c[:len(\"departure\")] == \"departure\" :\n",
    "        tot *= myticket[i]\n",
    "tot"
   ]
  },
  {
   "cell_type": "code",
   "execution_count": null,
   "metadata": {},
   "outputs": [],
   "source": []
  }
 ],
 "metadata": {
  "kernelspec": {
   "display_name": "Python 3",
   "language": "python",
   "name": "python3"
  },
  "language_info": {
   "codemirror_mode": {
    "name": "ipython",
    "version": 3
   },
   "file_extension": ".py",
   "mimetype": "text/x-python",
   "name": "python",
   "nbconvert_exporter": "python",
   "pygments_lexer": "ipython3",
   "version": "3.7.9"
  }
 },
 "nbformat": 4,
 "nbformat_minor": 4
}
