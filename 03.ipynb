{
 "cells": [
  {
   "cell_type": "markdown",
   "metadata": {},
   "source": [
    "# Day 3: Toboggan Trajectory ---\n",
    "With the toboggan login problems resolved, you set off toward the airport. While travel by toboggan might be easy, it's certainly not safe: there's very minimal steering and the area is covered in trees. You'll need to see which angles will take you near the fewest trees.  \n",
    "\n",
    "Due to the local geology, trees in this area only grow on exact integer coordinates in a grid. You make a map (your puzzle input) of the open squares (.) and trees (#) you can see. For example:  \n",
    "\n",
    "..##.......  \n",
    "#...#...#..  \n",
    ".#....#..#.  \n",
    "..#.#...#.#  \n",
    ".#...##..#.  \n",
    "..#.##.....  \n",
    ".#.#.#....#  \n",
    ".#........#  \n",
    "#.##...#...  \n",
    "#...##....#  \n",
    ".#..#...#.#  \n",
    "These aren't the only trees, though; due to something you read about once involving arboreal genetics and biome stability, the same pattern repeats to the right many times:  \n",
    "  \n",
    "..##.........##.........##.........##.........##.........##.......  --->  \n",
    "#...#...#..#...#...#..#...#...#..#...#...#..#...#...#..#...#...#..  \n",
    ".#....#..#..#....#..#..#....#..#..#....#..#..#....#..#..#....#..#.  \n",
    "..#.#...#.#..#.#...#.#..#.#...#.#..#.#...#.#..#.#...#.#..#.#...#.#  \n",
    ".#...##..#..#...##..#..#...##..#..#...##..#..#...##..#..#...##..#.  \n",
    "..#.##.......#.##.......#.##.......#.##.......#.##.......#.##.....  --->  \n",
    ".#.#.#....#.#.#.#....#.#.#.#....#.#.#.#....#.#.#.#....#.#.#.#....#  \n",
    ".#........#.#........#.#........#.#........#.#........#.#........#  \n",
    "#.##...#...#.##...#...#.##...#...#.##...#...#.##...#...#.##...#...  \n",
    "#...##....##...##....##...##....##...##....##...##....##...##....#  \n",
    ".#..#...#.#.#..#...#.#.#..#...#.#.#..#...#.#.#..#...#.#.#..#...#.#  --->  \n",
    "You start on the open square (.) in the top-left corner and need to reach the bottom (below the bottom-most row on your map).  \n",
    "  \n",
    "The toboggan can only follow a few specific slopes (you opted for a cheaper model that prefers rational numbers); start by counting all the trees you would encounter for the slope right 3, down 1:  \n",
    "  \n",
    "From your starting position at the top-left, check the position that is right 3 and down 1. Then, check the position that is right 3 and down 1 from there, and so on until you go past the bottom of the map.  \n",
    "  \n",
    "The locations you'd check in the above example are marked here with O where there was an open square and X where there was a tree:  \n",
    "\n",
    "..##.........##.........##.........##.........##.........##.......  --->  \n",
    "#..O#...#..#...#...#..#...#...#..#...#...#..#...#...#..#...#...#..  \n",
    ".#....X..#..#....#..#..#....#..#..#....#..#..#....#..#..#....#..#.  \n",
    "..#.#...#O#..#.#...#.#..#.#...#.#..#.#...#.#..#.#...#.#..#.#...#.#  \n",
    ".#...##..#..X...##..#..#...##..#..#...##..#..#...##..#..#...##..#.  \n",
    "..#.##.......#.X#.......#.##.......#.##.......#.##.......#.##.....  --->  \n",
    ".#.#.#....#.#.#.#.O..#.#.#.#....#.#.#.#....#.#.#.#....#.#.#.#....#  \n",
    ".#........#.#........X.#........#.#........#.#........#.#........#  \n",
    "#.##...#...#.##...#...#.X#...#...#.##...#...#.##...#...#.##...#...  \n",
    "#...##....##...##....##...#X....##...##....##...##....##...##....#  \n",
    ".#..#...#.#.#..#...#.#.#..#...X.#.#..#...#.#.#..#...#.#.#..#...#.#  --->  \n",
    "In this example, traversing the map using this slope would cause you to encounter 7 trees.  \n",
    "\n",
    "Starting at the top-left corner of your map and following a slope of right 3 and down 1, how many trees would you encounter?  "
   ]
  },
  {
   "cell_type": "markdown",
   "metadata": {},
   "source": [
    "### getting data ready"
   ]
  },
  {
   "cell_type": "code",
   "execution_count": 2,
   "metadata": {},
   "outputs": [],
   "source": [
    "map_file = \"data/03_map.txt\""
   ]
  },
  {
   "cell_type": "code",
   "execution_count": 27,
   "metadata": {},
   "outputs": [
    {
     "data": {
      "text/plain": [
       "(array([[False, False, False, False, False],\n",
       "        [False, False, False,  True, False],\n",
       "        [False, False, False, False, False],\n",
       "        [False, False, False, False,  True],\n",
       "        [False, False, False, False, False]]),\n",
       " (323, 31))"
      ]
     },
     "execution_count": 27,
     "metadata": {},
     "output_type": "execute_result"
    }
   ],
   "source": [
    "# read file, format data in a table\n",
    "import numpy as np # we'll use numpy for easier indexing\n",
    "\n",
    "with open (map_file, \"r\") as my_map :\n",
    "    bool_map = np.array([list(l.strip()) for l in my_map]) == '#'\n",
    "#     bool_map = np.array([[char == '#' for char in line[:-1]] for line in my_map.readlines()])\n",
    "    \n",
    "bool_map[:5,:5]"
   ]
  },
  {
   "cell_type": "markdown",
   "metadata": {},
   "source": [
    "### first solution for slope 3 right 1 down"
   ]
  },
  {
   "cell_type": "markdown",
   "metadata": {},
   "source": [
    "we just index using the slope"
   ]
  },
  {
   "cell_type": "code",
   "execution_count": 56,
   "metadata": {
    "code_folding": []
   },
   "outputs": [
    {
     "data": {
      "text/plain": [
       "225"
      ]
     },
     "execution_count": 56,
     "metadata": {},
     "output_type": "execute_result"
    }
   ],
   "source": [
    "slope = (3,1)\n",
    "\n",
    "def tree_counter (bool_map, slope) :\n",
    "    lines, cols = bool_map.shape\n",
    "    j_inc, i_inc = slope\n",
    "    \n",
    "    i_ind = np.array(range(0,lines,i_inc))\n",
    "    j_ind = j_inc * i_ind % cols\n",
    "    \n",
    "    # we need to check we arrive at the end of the map\n",
    "    assert i_ind[-1] == lines-1 , \"slope doesn't reach the end of the map\" \n",
    "    \n",
    "    return sum(bool_map[i_ind,j_ind])\n",
    "\n",
    "tree_counter (bool_map, slope)"
   ]
  },
  {
   "cell_type": "markdown",
   "metadata": {
    "code_folding": [
     0
    ]
   },
   "source": [
    "### Part Two \n",
    "Time to check the rest of the slopes - you need to minimize the probability of a sudden arboreal stop, after all.\n",
    "\n",
    "Determine the number of trees you would encounter if, for each of the following slopes, you start at the top-left corner and traverse the map all the way to the bottom:\n",
    "\n",
    "Right 1, down 1.  \n",
    "Right 3, down 1. (This is the slope you already checked.)  \n",
    "Right 5, down 1.  \n",
    "Right 7, down 1.  \n",
    "Right 1, down 2.  \n",
    "In the above example, these slopes would find 2, 7, 3, 4, and 2 tree(s) respectively; multiplied together, these produce the answer 336.\n",
    "\n",
    "What do you get if you multiply together the number of trees encountered on each of the listed slopes?"
   ]
  },
  {
   "cell_type": "code",
   "execution_count": 45,
   "metadata": {},
   "outputs": [],
   "source": [
    "slopes = ((1, 1), \n",
    "          (3, 1),\n",
    "          (5, 1),\n",
    "          (7, 1),\n",
    "          (1, 2)\n",
    "         )"
   ]
  },
  {
   "cell_type": "code",
   "execution_count": 59,
   "metadata": {},
   "outputs": [
    {
     "data": {
      "text/plain": [
       "([60, 225, 57, 58, 32], 1428192000)"
      ]
     },
     "execution_count": 59,
     "metadata": {},
     "output_type": "execute_result"
    }
   ],
   "source": [
    "[tree_counter(bool_map, s) for s in slopes], 60 * 225 * 57 * 58 * 32"
   ]
  },
  {
   "cell_type": "code",
   "execution_count": 50,
   "metadata": {},
   "outputs": [
    {
     "data": {
      "text/plain": [
       "1428192000"
      ]
     },
     "execution_count": 50,
     "metadata": {},
     "output_type": "execute_result"
    }
   ],
   "source": [
    "# we have numpy so we can use numpy.prod :\n",
    "np.prod([tree_counter(bool_map, s) for s in slopes])"
   ]
  },
  {
   "cell_type": "code",
   "execution_count": 51,
   "metadata": {},
   "outputs": [
    {
     "data": {
      "text/plain": [
       "1428192000"
      ]
     },
     "execution_count": 51,
     "metadata": {},
     "output_type": "execute_result"
    }
   ],
   "source": [
    "# but otherwise we could use reduce :\n",
    "from functools import reduce\n",
    "\n",
    "reduce((lambda x, y: x * y), [tree_counter(bool_map, s) for s in slopes])"
   ]
  },
  {
   "cell_type": "code",
   "execution_count": null,
   "metadata": {},
   "outputs": [],
   "source": []
  }
 ],
 "metadata": {
  "kernelspec": {
   "display_name": "Python 3",
   "language": "python",
   "name": "python3"
  },
  "language_info": {
   "codemirror_mode": {
    "name": "ipython",
    "version": 3
   },
   "file_extension": ".py",
   "mimetype": "text/x-python",
   "name": "python",
   "nbconvert_exporter": "python",
   "pygments_lexer": "ipython3",
   "version": "3.7.9"
  }
 },
 "nbformat": 4,
 "nbformat_minor": 4
}
