{
 "cells": [
  {
   "cell_type": "markdown",
   "metadata": {},
   "source": [
    "## Day 12: Rain Risk ---\n",
    "Your ferry made decent progress toward the island, but the storm came in faster than anyone expected. The ferry needs to take evasive actions!\n",
    "\n",
    "Unfortunately, the ship's navigation computer seems to be malfunctioning; rather than giving a route directly to safety, it produced extremely circuitous instructions. When the captain uses the PA system to ask if anyone can help, you quickly volunteer.\n",
    "\n",
    "The navigation instructions (your puzzle input) consists of a sequence of single-character actions paired with integer input values. After staring at them for a few minutes, you work out what they probably mean:\n",
    "\n",
    "Action N means to move north by the given value.  \n",
    "Action S means to move south by the given value.  \n",
    "Action E means to move east by the given value.  \n",
    "Action W means to move west by the given value.  \n",
    "Action L means to turn left the given number of degrees.  \n",
    "Action R means to turn right the given number of degrees.  \n",
    "Action F means to move forward by the given value in the direction the ship is currently facing.  \n",
    "The ship starts by facing east. Only the L and R actions change the direction the ship is facing. (That is, if the ship is facing east and the next instruction is N10, the ship would move north 10 units, but would still move east if the following action were F.)\n",
    "\n",
    "For example:\n",
    "\n",
    "F10  \n",
    "N3  \n",
    "F7  \n",
    "R90  \n",
    "F11  \n",
    "These instructions would be handled as follows:\n",
    "\n",
    "F10 would move the ship 10 units east (because the ship starts by facing east) to east 10, north 0.  \n",
    "N3 would move the ship 3 units north to east 10, north 3.  \n",
    "F7 would move the ship another 7 units east (because the ship is still facing east) to east 17, north 3.  \n",
    "R90 would cause the ship to turn right by 90 degrees and face south; it remains at east 17, north 3.  \n",
    "F11 would move the ship 11 units south to east 17, south 8.  \n",
    "At the end of these instructions, the ship's Manhattan distance (sum of the absolute values of its east/west position and its north/south position) from its starting position is 17 + 8 = 25.  \n",
    "\n",
    "Figure out where the navigation instructions lead. What is the Manhattan distance between that location and the ship's starting position?"
   ]
  },
  {
   "cell_type": "code",
   "execution_count": 44,
   "metadata": {},
   "outputs": [],
   "source": [
    "instructions_file = \"data/12_instructions.txt\""
   ]
  },
  {
   "cell_type": "code",
   "execution_count": 45,
   "metadata": {},
   "outputs": [
    {
     "data": {
      "text/plain": [
       "[('W', 3), ('R', 180), ('S', 1), ('F', 2), ('R', 90)]"
      ]
     },
     "execution_count": 45,
     "metadata": {},
     "output_type": "execute_result"
    }
   ],
   "source": [
    "# we read the file \n",
    "# and use numpy arrays for some functions\n",
    "import numpy as np\n",
    "\n",
    "\n",
    "with open (instructions_file, \"r\") as file :\n",
    "    instructions = [(line[0], int(line.strip()[1:])) for line in file]\n",
    "instructions[:5]"
   ]
  },
  {
   "cell_type": "code",
   "execution_count": 33,
   "metadata": {
    "code_folding": [
     17
    ]
   },
   "outputs": [
    {
     "name": "stdout",
     "output_type": "stream",
     "text": [
      "print we arrive in position east -163, north -218, for a Manhattan dist of 381.0\n"
     ]
    }
   ],
   "source": [
    "# east is positive axis 0, north is positive axis 1.\n",
    "\n",
    "# we start at position 0,0\n",
    "pos =  np.array([0,0]) \n",
    "\n",
    "#  we start in direction of east\n",
    "direc = np.array([1,0]) \n",
    "\n",
    "L90 = np.array([[0,-1],[1,0]]) # rotation matrix to turn left\n",
    "directions = {\n",
    "    'E' : direc,\n",
    "    'N' : L90 @ direc,\n",
    "    'W' : L90 @ L90 @ direc,\n",
    "    'S' : L90 @ L90 @ L90 @ direc,    \n",
    "}\n",
    "\n",
    "\n",
    "for inst, val in instructions :\n",
    "    if inst == 'F' : \n",
    "        pos += val * direc\n",
    "    if inst == 'R' :\n",
    "        inst = 'L'\n",
    "        val = 360 - val\n",
    "    if inst == 'L' :\n",
    "        for _ in range(val//90) : \n",
    "            direc = L90 @ direc\n",
    "    if inst in directions.keys() :\n",
    "        pos += val * directions[inst]\n",
    "        \n",
    "print(f\"print we arrive in position east {pos[0]}, north {pos[1]}, for a Manhattan dist of {np.linalg.norm(pos,1)}\")"
   ]
  },
  {
   "cell_type": "markdown",
   "metadata": {},
   "source": [
    "## Part Two ---\n",
    "Before you can give the destination to the captain, you realize that the actual action meanings were printed on the back of the instructions the whole time.\n",
    "\n",
    "Almost all of the actions indicate how to move a waypoint which is relative to the ship's position:\n",
    "\n",
    "Action N means to move the waypoint north by the given value.  \n",
    "Action S means to move the waypoint south by the given value.  \n",
    "Action E means to move the waypoint east by the given value.  \n",
    "Action W means to move the waypoint west by the given value.  \n",
    "Action L means to rotate the waypoint around the ship left (counter-clockwise) the given number of degrees.\n",
    "Action R means to rotate the waypoint around the ship right (clockwise) the given number of degrees.\n",
    "Action F means to move forward to the waypoint a number of times equal to the given value.  \n",
    "The waypoint starts 10 units east and 1 unit north relative to the ship. The waypoint is relative to the ship; that is, if the ship moves, the waypoint moves with it.\n",
    "\n",
    "For example, using the same instructions as above:\n",
    "\n",
    "F10 moves the ship to the waypoint 10 times (a total of 100 units east and 10 units north), leaving the ship at east 100, north 10. The waypoint stays 10 units east and 1 unit north of the ship.  \n",
    "N3 moves the waypoint 3 units north to 10 units east and 4 units north of the ship. The ship remains at east 100, north 10.  \n",
    "F7 moves the ship to the waypoint 7 times (a total of 70 units east and 28 units north), leaving the ship at east 170, north 38. The waypoint stays 10 units east and 4 units north of the ship.  \n",
    "R90 rotates the waypoint around the ship clockwise 90 degrees, moving it to 4 units east and 10 units south of the ship. The ship remains at east 170, north 38.  \n",
    "F11 moves the ship to the waypoint 11 times (a total of 44 units east and 110 units south), leaving the ship at east 214, south 72. The waypoint stays 4 units east and 10 units south of the ship.  \n",
    "After these operations, the ship's Manhattan distance from its starting position is 214 + 72 = 286.  \n",
    "\n",
    "Figure out where the navigation instructions actually lead. What is the Manhattan distance between that location and the ship's starting position?"
   ]
  },
  {
   "cell_type": "code",
   "execution_count": 47,
   "metadata": {},
   "outputs": [
    {
     "name": "stdout",
     "output_type": "stream",
     "text": [
      "print we arrive in position east -11946, north -16645, for a Manhattan dist of 28591.0\n"
     ]
    }
   ],
   "source": [
    "# east is positive axis 0, north is positive axis 1.\n",
    "\n",
    "# we start at position 0,0\n",
    "pos =  np.array([0,0]) \n",
    "\n",
    "#  we start in 10 units east, 1 north\n",
    "waypoint = np.array([10,1]) \n",
    "\n",
    "L90 = np.array([[0,-1],[1,0]]) # rotation matrix to turn left\n",
    "directions = {\n",
    "    'E' : np.array([1,0]) ,\n",
    "    'N' : L90 @ np.array([1,0]),\n",
    "    'W' : L90 @ L90 @ np.array([1,0]),\n",
    "    'S' : L90 @ L90 @ L90 @ np.array([1,0]),    \n",
    "}\n",
    "\n",
    "\n",
    "for inst, val in instructions :\n",
    "    if inst == 'F' : \n",
    "        pos += val * waypoint\n",
    "    if inst == 'R' :\n",
    "        inst = 'L'\n",
    "        val = 360 - val\n",
    "    if inst == 'L' :\n",
    "        for _ in range(val//90) : \n",
    "            waypoint = L90 @ waypoint\n",
    "    if inst in directions.keys() :\n",
    "        waypoint += val * directions[inst]\n",
    "        \n",
    "print(f\"print we arrive in position east {pos[0]}, north {pos[1]}, for a Manhattan dist of {np.linalg.norm(pos,1)}\")"
   ]
  },
  {
   "cell_type": "code",
   "execution_count": null,
   "metadata": {},
   "outputs": [],
   "source": []
  }
 ],
 "metadata": {
  "kernelspec": {
   "display_name": "Python 3",
   "language": "python",
   "name": "python3"
  },
  "language_info": {
   "codemirror_mode": {
    "name": "ipython",
    "version": 3
   },
   "file_extension": ".py",
   "mimetype": "text/x-python",
   "name": "python",
   "nbconvert_exporter": "python",
   "pygments_lexer": "ipython3",
   "version": "3.7.9"
  }
 },
 "nbformat": 4,
 "nbformat_minor": 4
}
