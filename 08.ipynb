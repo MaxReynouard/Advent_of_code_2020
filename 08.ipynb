{
 "cells": [
  {
   "cell_type": "markdown",
   "metadata": {},
   "source": [
    "## Day 8: Handheld Halting ---\n",
    "Your flight to the major airline hub reaches cruising altitude without incident. While you consider checking the in-flight menu for one of those drinks that come with a little umbrella, you are interrupted by the kid sitting next to you.  \n",
    "\n",
    "Their handheld game console won't turn on! They ask if you can take a look.  \n",
    "\n",
    "You narrow the problem down to a strange infinite loop in the boot code (your puzzle input) of the device. You should be able to fix it, but first you need to be able to run the code in isolation.  \n",
    "\n",
    "The boot code is represented as a text file with one instruction per line of text. Each instruction consists of an operation (acc, jmp, or nop) and an argument (a signed number like +4 or -20).  \n",
    "\n",
    "acc increases or decreases a single global value called the accumulator by the value given in the argument. For example, acc +7 would increase the accumulator by 7. The accumulator starts at 0. After an acc instruction, the instruction immediately below it is executed next.  \n",
    "jmp jumps to a new instruction relative to itself. The next instruction to execute is found using the argument as an offset from the jmp instruction; for example, jmp +2 would skip the next instruction, jmp +1 would continue to the instruction immediately below it, and jmp -20 would cause the instruction 20 lines above to be executed next.  \n",
    "nop stands for No OPeration - it does nothing. The instruction immediately below it is executed next.  \n",
    "For example, consider the following program:  \n",
    "\n",
    "nop +0  \n",
    "acc +1  \n",
    "jmp +4  \n",
    "acc +3  \n",
    "jmp -3  \n",
    "acc -99  \n",
    "acc +1  \n",
    "jmp -4  \n",
    "acc +6  \n",
    "These instructions are visited in this order:  \n",
    "\n",
    "nop +0  | 1  \n",
    "acc +1  | 2, 8(!)  \n",
    "jmp +4  | 3  \n",
    "acc +3  | 6  \n",
    "jmp -3  | 7  \n",
    "acc -99 |  \n",
    "acc +1  | 4  \n",
    "jmp -4  | 5  \n",
    "acc +6  |  \n",
    "First, the nop +0 does nothing. Then, the accumulator is increased from 0 to 1 (acc +1) and jmp +4 sets the next instruction to the other acc +1 near the bottom. After it increases the accumulator from 1 to 2, jmp -4 executes, setting the next instruction to the only acc +3. It sets the accumulator to 5, and jmp -3 causes the program to continue back at the first acc +1.  \n",
    "\n",
    "This is an infinite loop: with this sequence of jumps, the program will run forever. The moment the program tries to run any instruction a second time, you know it will never terminate.  \n",
    "\n",
    "Immediately before the program would run an instruction a second time, the value in the accumulator is 5.  \n",
    "\n",
    "Run your copy of the boot code. Immediately before any instruction is executed a second time, what value is in the accumulator?  "
   ]
  },
  {
   "cell_type": "code",
   "execution_count": 1,
   "metadata": {},
   "outputs": [],
   "source": [
    "boot_file = \"data/08_boot.txt\""
   ]
  },
  {
   "cell_type": "code",
   "execution_count": 2,
   "metadata": {},
   "outputs": [
    {
     "data": {
      "text/plain": [
       "(['nop', 'acc', 'jmp', 'acc', 'jmp', 'acc', 'acc', 'jmp', 'acc', 'nop'],\n",
       " [81, -17, 1, 31, 211, 30, -7, 29, 16, 89])"
      ]
     },
     "execution_count": 2,
     "metadata": {},
     "output_type": "execute_result"
    }
   ],
   "source": [
    "# read and store the instructions in tables\n",
    "\n",
    "commands = []\n",
    "values = []\n",
    "with open (boot_file, \"r\") as boot :\n",
    "    for line in boot :\n",
    "        cmd, val = line.strip().split()\n",
    "        commands.append(cmd)\n",
    "        values.append(int(val))\n",
    "        if cmd != 'acc' and cmd != 'jmp' and cmd != 'nop' :\n",
    "            print('exited read loop because of invalid command :',cmd)\n",
    "\n",
    "commands[:10], values[:10]"
   ]
  },
  {
   "cell_type": "code",
   "execution_count": 11,
   "metadata": {
    "code_folding": []
   },
   "outputs": [
    {
     "name": "stdout",
     "output_type": "stream",
     "text": [
      "reached an operation already executed at index 452, infinite loop detected, accumulator value was 1553 exiting...\n"
     ]
    }
   ],
   "source": [
    "def run_code(commands, values) :\n",
    "    assert len(commands) == len(values), 'commands and values input need to have the same length'\n",
    "    accumulator = 0\n",
    "    visited = [False] * len(commands)\n",
    "    i = 0\n",
    "    while i < len(commands) :\n",
    "        cmd = commands[i]\n",
    "        val = values[i]\n",
    "        \n",
    "        if visited[i] : \n",
    "            print(f\"reached an operation already executed at index {i},\",\n",
    "                  f\"infinite loop detected, accumulator value was {accumulator} exiting...\")\n",
    "            return None\n",
    "        visited[i] = True\n",
    "        \n",
    "        if cmd == 'acc' :\n",
    "            accumulator += val\n",
    "            i += 1\n",
    "        elif cmd == 'jmp' :\n",
    "            i += val\n",
    "            if i < 0 :\n",
    "                print(f\"reached an negative index in the loop from index {i - val},\",\n",
    "                f\"accumulator value was {accumulator} exiting...\")\n",
    "                return None\n",
    "        elif cmd == 'nop' :\n",
    "            i += 1\n",
    "        else :\n",
    "            print(f\"read unknown command at index {i}, accumulator value was {accumulator} exiting...\")\n",
    "    print(f'reached index higher than length  of code : {i}, accumulator value was {accumulator}')\n",
    "    print('code executed successfuly')\n",
    "run_code(commands, values)"
   ]
  },
  {
   "cell_type": "markdown",
   "metadata": {},
   "source": [
    "## Part Two ---\n",
    "After some careful analysis, you believe that exactly one instruction is corrupted.  \n",
    "\n",
    "Somewhere in the program, either a jmp is supposed to be a nop, or a nop is supposed to be a jmp. (No acc instructions were harmed in the corruption of this boot code.)\n",
    "\n",
    "The program is supposed to terminate by attempting to execute an instruction immediately after the last instruction in the file. By changing exactly one jmp or nop, you can repair the boot code and make it terminate correctly.\n",
    "\n",
    "For example, consider the same program from above:\n",
    "\n",
    "nop +0\n",
    "acc +1\n",
    "jmp +4\n",
    "acc +3\n",
    "jmp -3\n",
    "acc -99\n",
    "acc +1\n",
    "jmp -4\n",
    "acc +6\n",
    "If you change the first instruction from nop +0 to jmp +0, it would create a single-instruction infinite loop, never leaving that instruction. If you change almost any of the jmp instructions, the program will still eventually find another jmp instruction and loop forever.\n",
    "\n",
    "However, if you change the second-to-last instruction (from jmp -4 to nop -4), the program terminates! The instructions are visited in this order:\n",
    "\n",
    "nop +0  | 1\n",
    "acc +1  | 2\n",
    "jmp +4  | 3\n",
    "acc +3  |\n",
    "jmp -3  |\n",
    "acc -99 |\n",
    "acc +1  | 4\n",
    "nop -4  | 5\n",
    "acc +6  | 6\n",
    "After the last instruction (acc +6), the program terminates by attempting to run the instruction below the last instruction in the file. With this change, after the program terminates, the accumulator contains the value 8 (acc +1, acc +1, acc +6).\n",
    "\n",
    "Fix the program so that it terminates normally by changing exactly one jmp (to nop) or nop (to jmp). What is the value of the accumulator after the program terminates?"
   ]
  },
  {
   "cell_type": "code",
   "execution_count": 44,
   "metadata": {
    "code_folding": [
     0
    ]
   },
   "outputs": [
    {
     "name": "stdout",
     "output_type": "stream",
     "text": [
      "found a path, accumulator is 1877\n"
     ]
    },
    {
     "data": {
      "text/plain": [
       "1877"
      ]
     },
     "execution_count": 44,
     "metadata": {},
     "output_type": "execute_result"
    }
   ],
   "source": [
    "def find_code_path(commands, values, i0 = 0, visited0 = None) :\n",
    "    assert len(commands) == len(values), 'commands and values input need to have the same length'\n",
    "    accumulator = 0\n",
    "    if visited0 is None :\n",
    "        visited = [False] * len(commands)\n",
    "    else :\n",
    "        visited = visited0.copy()\n",
    "    i = i0\n",
    "    while i < len(commands) :\n",
    "        cmd = commands[i]\n",
    "        val = values[i]\n",
    "        if visited[i] : \n",
    "            return None\n",
    "        visited[i] = True\n",
    "        \n",
    "        if cmd == 'acc' :\n",
    "            accumulator += val\n",
    "            i += 1\n",
    "        elif cmd == 'jmp' :\n",
    "            if i0 == 0 :\n",
    "                acc = find_code_path(commands, values, i + 1, visited)\n",
    "                if acc is not None :\n",
    "                    print(f'found a path, accumulator is {accumulator + acc}')\n",
    "                    return accumulator + acc\n",
    "            i += val\n",
    "            if i < 0 :\n",
    "                return None\n",
    "        elif cmd == 'nop' :\n",
    "            if i0 == 0 :\n",
    "                acc = find_code_path(commands, values, i + val, visited)\n",
    "                if acc is not None :\n",
    "                    print(f'found a path, accumulator is {accumulator + acc}')\n",
    "                    return accumulator + acc\n",
    "            i += 1\n",
    "        else :\n",
    "            return None\n",
    "        \n",
    "    if i == len(commands) :\n",
    "        return accumulator\n",
    "        \n",
    "    return None\n",
    "\n",
    "find_code_path(commands, values)"
   ]
  }
 ],
 "metadata": {
  "kernelspec": {
   "display_name": "Python 3",
   "language": "python",
   "name": "python3"
  },
  "language_info": {
   "codemirror_mode": {
    "name": "ipython",
    "version": 3
   },
   "file_extension": ".py",
   "mimetype": "text/x-python",
   "name": "python",
   "nbconvert_exporter": "python",
   "pygments_lexer": "ipython3",
   "version": "3.7.9"
  }
 },
 "nbformat": 4,
 "nbformat_minor": 4
}
