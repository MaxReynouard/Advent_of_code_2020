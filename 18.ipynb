{
 "cells": [
  {
   "cell_type": "markdown",
   "metadata": {},
   "source": [
    "## Day 18: Operation Order ---\n",
    "As you look out the window and notice a heavily-forested continent slowly appear over the horizon, you are interrupted by the child sitting next to you. They're curious if you could help them with their math homework.\n",
    "\n",
    "Unfortunately, it seems like this \"math\" follows different rules than you remember.\n",
    "\n",
    "The homework (your puzzle input) consists of a series of expressions that consist of addition (+), multiplication (*), and parentheses ((...)). Just like normal math, parentheses indicate that the expression inside must be evaluated before it can be used by the surrounding expression. Addition still finds the sum of the numbers on both sides of the operator, and multiplication still finds the product.\n",
    "\n",
    "However, the rules of operator precedence have changed. Rather than evaluating multiplication before addition, the operators have the same precedence, and are evaluated left-to-right regardless of the order in which they appear.\n",
    "\n",
    "For example, the steps to evaluate the expression 1 + 2 * 3 + 4 * 5 + 6 are as follows:\n",
    "\n",
    "1 + 2 * 3 + 4 * 5 + 6  \n",
    "  3   * 3 + 4 * 5 + 6  \n",
    "      9   + 4 * 5 + 6  \n",
    "         13   * 5 + 6  \n",
    "             65   + 6  \n",
    "                 71  \n",
    "Parentheses can override this order; for example, here is what happens if parentheses are added to form 1 + (2 * 3) + (4 * (5 + 6)):  \n",
    "\n",
    "1 + (2 * 3) + (4 * (5 + 6))  \n",
    "1 +    6    + (4 * (5 + 6))  \n",
    "     7      + (4 * (5 + 6))  \n",
    "     7      + (4 *   11   )  \n",
    "     7      +     44  \n",
    "            51  \n",
    "Here are a few more examples:  \n",
    " \n",
    "2 * 3 + (4 * 5) becomes 26.  \n",
    "5 + (8 * 3 + 9 + 3 * 4 * 3) becomes 437.  \n",
    "5 * 9 * (7 * 3 * 3 + 9 * 3 + (8 + 6 * 4)) becomes 12240.  \n",
    "((2 + 4 * 9) * (6 + 9 * 8 + 6) + 6) + 2 + 4 * 2 becomes 13632.  \n",
    "Before you can help with the homework, you need to understand it yourself. Evaluate the expression on each line of the homework; what is the sum of the resulting values?"
   ]
  },
  {
   "cell_type": "code",
   "execution_count": 56,
   "metadata": {},
   "outputs": [],
   "source": [
    "file = 'data/18_maths.txt'"
   ]
  },
  {
   "cell_type": "code",
   "execution_count": 57,
   "metadata": {},
   "outputs": [
    {
     "data": {
      "text/plain": [
       "['(5 * 7 * 5) * 6 * 5 + 7 + 6 * 4',\n",
       " '(2 + 3 + (2 + 8) * 3 + (7 + 4)) * 3 + 7',\n",
       " '2 + 4 * (2 + 2 * (9 + 2 + 6 + 3 + 6) + 4)',\n",
       " '4 * 3',\n",
       " '9 + (8 * 5 * 5 * 4 * (3 * 5) * 2) + 4 + 4']"
      ]
     },
     "execution_count": 57,
     "metadata": {},
     "output_type": "execute_result"
    }
   ],
   "source": [
    "with open(file, 'r') as txt :\n",
    "    maths = [line.strip() for line in txt]\n",
    "maths[:5]"
   ]
  },
  {
   "cell_type": "code",
   "execution_count": 58,
   "metadata": {
    "code_folding": [
     0,
     10
    ]
   },
   "outputs": [
    {
     "data": {
      "text/plain": [
       "5019432542701"
      ]
     },
     "execution_count": 58,
     "metadata": {},
     "output_type": "execute_result"
    }
   ],
   "source": [
    "def find_opening_p_ind(begin) :\n",
    "    count = 0\n",
    "    for i,char in enumerate(begin[::-1]) :\n",
    "        if char ==')' :\n",
    "            count +=1\n",
    "        elif char == '(':\n",
    "            count -= 1\n",
    "        if count < 0 :\n",
    "            return len(begin) - i - 1\n",
    "\n",
    "def calculation(line) :\n",
    "    if line[-1]  == ')' :\n",
    "        i = find_opening_p_ind(line[:-1])\n",
    "        return calculation(line[:i] + str(calculation(line[i+1:-1])))\n",
    "    plus_case = [part[::-1] for part in line[::-1].split(' + ',1)[::-1]]\n",
    "    time_case = [part[::-1] for part in line[::-1].split(' * ',1)[::-1]]\n",
    "#     print(line, plus_case, time_case)\n",
    "    if len(plus_case) == len(time_case) == 1 :\n",
    "        return int(line)\n",
    "    if len(plus_case[-1]) < len(time_case[-1]) :\n",
    "        return  calculation(plus_case[0]) + int(plus_case[1])\n",
    "    return calculation(time_case[0]) * int(time_case[1])\n",
    "        \n",
    "sum([calculation(line) for line in maths])"
   ]
  },
  {
   "cell_type": "markdown",
   "metadata": {},
   "source": [
    "## Part Two ---\n",
    "You manage to answer the child's questions and they finish part 1 of their homework, but get stuck when they reach the next section: advanced math.\n",
    "\n",
    "Now, addition and multiplication have different precedence levels, but they're not the ones you're familiar with. Instead, addition is evaluated before multiplication.\n",
    "\n",
    "For example, the steps to evaluate the expression 1 + 2 * 3 + 4 * 5 + 6 are now as follows:\n",
    "\n",
    "1 + 2 * 3 + 4 * 5 + 6  \n",
    "  3   * 3 + 4 * 5 + 6  \n",
    "  3   *   7   * 5 + 6  \n",
    "  3   *   7   *  11  \n",
    "     21       *  11  \n",
    "         231  \n",
    "Here are the other examples from above:  \n",
    "\n",
    "1 + (2 * 3) + (4 * (5 + 6)) still becomes 51.  \n",
    "2 * 3 + (4 * 5) becomes 46.  \n",
    "5 + (8 * 3 + 9 + 3 * 4 * 3) becomes 1445.  \n",
    "5 * 9 * (7 * 3 * 3 + 9 * 3 + (8 + 6 * 4)) becomes 669060.  \n",
    "((2 + 4 * 9) * (6 + 9 * 8 + 6) + 6) + 2 + 4 * 2 becomes 23340.  \n",
    "What do you get if you add up the results of evaluating the homework problems using these new rules?  "
   ]
  },
  {
   "cell_type": "code",
   "execution_count": 84,
   "metadata": {},
   "outputs": [
    {
     "data": {
      "text/plain": [
       "['(5 * 7 * 5) * 6 * 5 + 7 + 6 * 4',\n",
       " '(2 + 3 + (2 + 8) * 3 + (7 + 4)) * 3 + 7',\n",
       " '2 + 4 * (2 + 2 * (9 + 2 + 6 + 3 + 6) + 4)',\n",
       " '4 * 3',\n",
       " '9 + (8 * 5 * 5 * 4 * (3 * 5) * 2) + 4 + 4']"
      ]
     },
     "execution_count": 84,
     "metadata": {},
     "output_type": "execute_result"
    }
   ],
   "source": [
    "with open(file, 'r') as txt :\n",
    "    maths = [line.strip() for line in txt]\n",
    "maths[:5]"
   ]
  },
  {
   "cell_type": "code",
   "execution_count": 85,
   "metadata": {
    "code_folding": []
   },
   "outputs": [
    {
     "data": {
      "text/plain": [
       "70518821989947"
      ]
     },
     "execution_count": 85,
     "metadata": {},
     "output_type": "execute_result"
    }
   ],
   "source": [
    "def find_opening_p_ind(begin) :\n",
    "    count = 0\n",
    "    for i,char in enumerate(begin[::-1]) :\n",
    "        if char ==')' :\n",
    "            count +=1\n",
    "        elif char == '(':\n",
    "            count -= 1\n",
    "        if count < 0 :\n",
    "            return len(begin) - i - 1\n",
    "\n",
    "def calculation(line) :\n",
    "    if line[-1]  == ')' :\n",
    "#         print(line, 'case )')\n",
    "        i = find_opening_p_ind(line[:-1])\n",
    "        return calculation(line[:i] + str(calculation(line[i+1:-1])))\n",
    "    plus_case = [part[::-1] for part in line[::-1].split(' + ',1)[::-1]]\n",
    "    time_case = [part[::-1] for part in line[::-1].split(' * ',1)[::-1]]\n",
    "#     print(line, plus_case, time_case)\n",
    "    if len(plus_case) == len(time_case) == 1 :\n",
    "#         print(line, 'case int')\n",
    "        return int(line)\n",
    "    if len(plus_case[-1]) < len(time_case[-1]) :\n",
    "        begin_num = [part[::-1] for part in plus_case[0][::-1].split(' ',1)[::-1]]\n",
    "        \n",
    "        if begin_num[-1][-1] == ')' :\n",
    "            i = find_opening_p_ind(plus_case[0][:-1])\n",
    "#             print(line, 'plus_case',plus_case,'begin_num', begin_num, 'i',i , 'case ) + _')\n",
    "            return calculation(plus_case[0][:i] + str(calculation(plus_case[0][i+1:-1])) + ' + ' + plus_case[1])\n",
    "        \n",
    "        if len(begin_num) == 1 :  \n",
    "#             print(line, begin_num, 'case last add')\n",
    "            return int(begin_num[0]) + int(plus_case[1])\n",
    "        begin, num = begin_num\n",
    "#         print(line,'plus_case',plus_case,'begin', begin,'num', num, 'case long add' )\n",
    "        return calculation(begin + ' ' + str(int(num) + int(plus_case[1])))\n",
    "#     print(line, time_case, 'case time')\n",
    "    return calculation(time_case[0]) * int(time_case[1])\n",
    "        \n",
    "sum([calculation(line) for line in maths])\n",
    "# for line in maths :\n",
    "#     print('\\t',line,'result:', calculation(line))"
   ]
  },
  {
   "cell_type": "code",
   "execution_count": null,
   "metadata": {},
   "outputs": [],
   "source": []
  }
 ],
 "metadata": {
  "kernelspec": {
   "display_name": "Python 3",
   "language": "python",
   "name": "python3"
  },
  "language_info": {
   "codemirror_mode": {
    "name": "ipython",
    "version": 3
   },
   "file_extension": ".py",
   "mimetype": "text/x-python",
   "name": "python",
   "nbconvert_exporter": "python",
   "pygments_lexer": "ipython3",
   "version": "3.7.9"
  }
 },
 "nbformat": 4,
 "nbformat_minor": 4
}
