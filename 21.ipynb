{
 "cells": [
  {
   "cell_type": "markdown",
   "metadata": {},
   "source": [
    "## Day 21: Allergen Assessment ---\n",
    "You reach the train's last stop and the closest you can get to your vacation island without getting wet. There aren't even any boats here, but nothing can stop you now: you build a raft. You just need a few days' worth of food for your journey.\n",
    "\n",
    "You don't speak the local language, so you can't read any ingredients lists. However, sometimes, allergens are listed in a language you do understand. You should be able to use this information to determine which ingredient contains which allergen and work out which foods are safe to take with you on your trip.\n",
    "\n",
    "You start by compiling a list of foods (your puzzle input), one food per line. Each line includes that food's ingredients list followed by some or all of the allergens the food contains.\n",
    "\n",
    "Each allergen is found in exactly one ingredient. Each ingredient contains zero or one allergen. Allergens aren't always marked; when they're listed (as in (contains nuts, shellfish) after an ingredients list), the ingredient that contains each listed allergen will be somewhere in the corresponding ingredients list. However, even if an allergen isn't listed, the ingredient that contains that allergen could still be present: maybe they forgot to label it, or maybe it was labeled in a language you don't know.\n",
    "\n",
    "For example, consider the following list of foods:\n",
    "\n",
    "mxmxvkd kfcds sqjhc nhms (contains dairy, fish)  \n",
    "trh fvjkl sbzzf mxmxvkd (contains dairy)  \n",
    "sqjhc fvjkl (contains soy)  \n",
    "sqjhc mxmxvkd sbzzf (contains fish)  \n",
    "The first food in the list has four ingredients (written in a language you don't understand): mxmxvkd, kfcds, sqjhc, and nhms. While the food might contain other allergens, a few allergens the food definitely contains are listed afterward: dairy and fish.\n",
    "\n",
    "The first step is to determine which ingredients can't possibly contain any of the allergens in any food in your list. In the above example, none of the ingredients kfcds, nhms, sbzzf, or trh can contain an allergen. Counting the number of times any of these ingredients appear in any ingredients list produces 5: they all appear once each except sbzzf, which appears twice.\n",
    "\n",
    "Determine which ingredients cannot possibly contain any of the allergens in your list. How many times do any of those ingredients appear?"
   ]
  },
  {
   "cell_type": "code",
   "execution_count": 72,
   "metadata": {
    "code_folding": []
   },
   "outputs": [
    {
     "data": {
      "text/plain": [
       "2635"
      ]
     },
     "execution_count": 72,
     "metadata": {},
     "output_type": "execute_result"
    }
   ],
   "source": [
    "menu = []\n",
    "ingredients, allergens= set(), set()\n",
    "for line in open('data/21_foods.txt'):\n",
    "\n",
    "    if 'contains' in line :\n",
    "        ingr, aller = line.strip().split(' (contains ')\n",
    "        ingr = ingr.split(' ')\n",
    "        aller = aller[:-1].split(', ')\n",
    "    else :\n",
    "        ingr = line.strip.split(' ')\n",
    "        aller = []\n",
    "    ingredients.update(ingr)\n",
    "    allergens.update(aller)\n",
    "    menu.append((ingr, aller))\n",
    "    \n",
    "candidates = {a : ingredients.copy() for a in allergens}\n",
    "for ingred, aller in menu:\n",
    "    cannot = ingredients.difference(set(ingred))\n",
    "    for a in aller :\n",
    "        candidates[a] = candidates[a].difference(cannot)\n",
    "\n",
    "possibles = set()\n",
    "for c in candidates.values() :\n",
    "    possibles.update(list(c))\n",
    "impossibles = ingredients.difference(possibles)\n",
    "impossibles\n",
    "\n",
    "count = 0\n",
    "for ingred, _ in menu :\n",
    "    for i in impossibles : \n",
    "        if i in ingred :\n",
    "            count += 1\n",
    "count"
   ]
  },
  {
   "cell_type": "markdown",
   "metadata": {},
   "source": [
    "## Part Two ---\n",
    "Now that you've isolated the inert ingredients, you should have enough information to figure out which ingredient contains which allergen.\n",
    "\n",
    "In the above example:\n",
    "\n",
    "mxmxvkd contains dairy.  \n",
    "sqjhc contains fish.  \n",
    "fvjkl contains soy.  \n",
    "Arrange the ingredients alphabetically by their allergen and separate them by commas to produce your canonical dangerous ingredient list. (There should not be any spaces in your canonical dangerous ingredient list.) In the above example, this would be mxmxvkd,sqjhc,fvjkl.\n",
    "\n",
    "Time to stock your raft with supplies. What is your canonical dangerous ingredient list?  "
   ]
  },
  {
   "cell_type": "code",
   "execution_count": 73,
   "metadata": {},
   "outputs": [
    {
     "data": {
      "text/plain": [
       "2"
      ]
     },
     "execution_count": 73,
     "metadata": {},
     "output_type": "execute_result"
    }
   ],
   "source": [
    "len(candidates['fish'])"
   ]
  },
  {
   "cell_type": "code",
   "execution_count": 74,
   "metadata": {},
   "outputs": [
    {
     "data": {
      "text/plain": [
       "{'sesame': {'dhsnxr'},\n",
       " 'soy': {'ntflq'},\n",
       " 'dairy': {'xncgqbcp'},\n",
       " 'shellfish': {'rzrktx'},\n",
       " 'nuts': {'qhqs'},\n",
       " 'fish': {'frkmp'},\n",
       " 'peanuts': {'qnhjhn'},\n",
       " 'wheat': {'lgnhmx'}}"
      ]
     },
     "execution_count": 74,
     "metadata": {},
     "output_type": "execute_result"
    }
   ],
   "source": [
    "not_separated = True\n",
    "while not_separated :\n",
    "    not_separated = False\n",
    "    for ing, allers in candidates.items() :\n",
    "        if len(allers) > 1 :\n",
    "            not_separated = True\n",
    "        else :\n",
    "            for i in candidates.keys() :\n",
    "                if i == ing : continue\n",
    "                candidates[i] = candidates[i].difference(allers)\n",
    "candidates"
   ]
  },
  {
   "cell_type": "code",
   "execution_count": 75,
   "metadata": {},
   "outputs": [
    {
     "data": {
      "text/plain": [
       "'xncgqbcp,frkmp,qhqs,qnhjhn,dhsnxr,rzrktx,ntflq,lgnhmx'"
      ]
     },
     "execution_count": 75,
     "metadata": {},
     "output_type": "execute_result"
    }
   ],
   "source": [
    "cand = {k :v.copy() for k,v in candidates.items()}\n",
    "','.join([cand[ing].pop() for ing in sorted(cand.keys())])"
   ]
  },
  {
   "cell_type": "code",
   "execution_count": null,
   "metadata": {},
   "outputs": [],
   "source": []
  }
 ],
 "metadata": {
  "kernelspec": {
   "display_name": "Python 3",
   "language": "python",
   "name": "python3"
  },
  "language_info": {
   "codemirror_mode": {
    "name": "ipython",
    "version": 3
   },
   "file_extension": ".py",
   "mimetype": "text/x-python",
   "name": "python",
   "nbconvert_exporter": "python",
   "pygments_lexer": "ipython3",
   "version": "3.7.9"
  }
 },
 "nbformat": 4,
 "nbformat_minor": 4
}
