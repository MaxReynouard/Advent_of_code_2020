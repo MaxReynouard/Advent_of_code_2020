{
 "cells": [
  {
   "cell_type": "markdown",
   "metadata": {},
   "source": [
    "## Day 23: Crab Cups ---\n",
    "The small crab challenges you to a game! The crab is going to mix up some cups, and you have to predict where they'll end up.  \n",
    "\n",
    "The cups will be arranged in a circle and labeled clockwise (your puzzle input). For example, if your labeling were 32415, there would be five cups in the circle; going clockwise around the circle from the first cup, the cups would be labeled 3, 2, 4, 1, 5, and then back to 3 again.  \n",
    "\n",
    "Before the crab starts, it will designate the first cup in your list as the current cup. The crab is then going to do 100 moves.  \n",
    "\n",
    "Each move, the crab does the following actions:  \n",
    "\n",
    "The crab picks up the three cups that are immediately clockwise of the current cup. They are removed from the circle; cup spacing is adjusted as necessary to maintain the circle.  \n",
    "The crab selects a destination cup: the cup with a label equal to the current cup's label minus one. If this would select one of the cups that was just picked up, the crab will keep subtracting one until it finds a cup that wasn't just picked up. If at any point in this process the value goes below the lowest value on any cup's label, it wraps around to the highest value on any cup's label instead.  \n",
    "The crab places the cups it just picked up so that they are immediately clockwise of the destination cup. They keep the same order as when they were picked up.  \n",
    "The crab selects a new current cup: the cup which is immediately clockwise of the current cup.  \n",
    "For example, suppose your cup labeling were 389125467. If the crab were to do merely 10 moves, the following changes would occur:  \n",
    "\n",
    "-- move 1 --  \n",
    "cups: (3) 8  9  1  2  5  4  6  7   \n",
    "pick up: 8, 9, 1  \n",
    "destination: 2  \n",
    "  \n",
    "-- move 2 --  \n",
    "cups:  3 (2) 8  9  1  5  4  6  7   \n",
    "pick up: 8, 9, 1  \n",
    "destination: 7  \n",
    "  \n",
    "-- move 3 --  \n",
    "cups:  3  2 (5) 4  6  7  8  9  1   \n",
    "pick up: 4, 6, 7  \n",
    "destination: 3  \n",
    "  \n",
    "-- move 4 --  \n",
    "cups:  7  2  5 (8) 9  1  3  4  6   \n",
    "pick up: 9, 1, 3  \n",
    "destination: 7  \n",
    "  \n",
    "-- move 5 --  \n",
    "cups:  3  2  5  8 (4) 6  7  9  1   \n",
    "pick up: 6, 7, 9  \n",
    "destination: 3  \n",
    "  \n",
    "-- move 6 --  \n",
    "cups:  9  2  5  8  4 (1) 3  6  7   \n",
    "pick up: 3, 6, 7  \n",
    "destination: 9  \n",
    "  \n",
    "-- move 7 --  \n",
    "cups:  7  2  5  8  4  1 (9) 3  6   \n",
    "pick up: 3, 6, 7  \n",
    "destination: 8  \n",
    "  \n",
    "-- move 8 --  \n",
    "cups:  8  3  6  7  4  1  9 (2) 5   \n",
    "pick up: 5, 8, 3  \n",
    "destination: 1  \n",
    "  \n",
    "-- move 9 --  \n",
    "cups:  7  4  1  5  8  3  9  2 (6)  \n",
    "pick up: 7, 4, 1  \n",
    "destination: 5  \n",
    "  \n",
    "-- move 10 --  \n",
    "cups: (5) 7  4  1  8  3  9  2  6   \n",
    "pick up: 7, 4, 1  \n",
    "destination: 3  \n",
    "  \n",
    "-- final --  \n",
    "cups:  5 (8) 3  7  4  1  9  2  6   \n",
    "In the above example, the cups' values are the labels as they appear moving clockwise around the circle; the current cup is marked with ( ).  \n",
    "\n",
    "After the crab is done, what order will the cups be in? Starting after the cup labeled 1, collect the other cups' labels clockwise into a single string with no extra characters; each number except 1 should appear exactly once. In the above example, after 10 moves, the cups clockwise from 1 are labeled 9, 2, 6, 5, and so on, producing 92658374. If the crab were to complete all 100 moves, the order after cup 1 would be 67384529.  \n",
    "\n",
    "Using your labeling, simulate 100 moves. What are the labels on the cups after cup 1?\n",
    "\n",
    "Your puzzle input is 398254716."
   ]
  },
  {
   "cell_type": "code",
   "execution_count": 66,
   "metadata": {},
   "outputs": [
    {
     "name": "stdout",
     "output_type": "stream",
     "text": [
      "1 done\n",
      "10 done\n"
     ]
    },
    {
     "ename": "KeyboardInterrupt",
     "evalue": "",
     "output_type": "error",
     "traceback": [
      "\u001b[1;31m---------------------------------------------------------------------------\u001b[0m",
      "\u001b[1;31mKeyboardInterrupt\u001b[0m                         Traceback (most recent call last)",
      "\u001b[1;32m<ipython-input-66-efbbb97d1c65>\u001b[0m in \u001b[0;36m<module>\u001b[1;34m\u001b[0m\n\u001b[0;32m     28\u001b[0m         \u001b[1;32mif\u001b[0m \u001b[0mc\u001b[0m \u001b[1;32min\u001b[0m \u001b[0mpick_up\u001b[0m \u001b[1;33m:\u001b[0m\u001b[1;33m\u001b[0m\u001b[1;33m\u001b[0m\u001b[0m\n\u001b[0;32m     29\u001b[0m             \u001b[1;32mcontinue\u001b[0m\u001b[1;33m\u001b[0m\u001b[1;33m\u001b[0m\u001b[0m\n\u001b[1;32m---> 30\u001b[1;33m         \u001b[0mnew_cups\u001b[0m\u001b[1;33m.\u001b[0m\u001b[0mappend\u001b[0m\u001b[1;33m(\u001b[0m\u001b[0mc\u001b[0m\u001b[1;33m)\u001b[0m\u001b[1;33m\u001b[0m\u001b[1;33m\u001b[0m\u001b[0m\n\u001b[0m\u001b[0;32m     31\u001b[0m         \u001b[1;32mif\u001b[0m \u001b[0mc\u001b[0m \u001b[1;33m==\u001b[0m \u001b[0mdestination\u001b[0m \u001b[1;33m:\u001b[0m\u001b[1;33m\u001b[0m\u001b[1;33m\u001b[0m\u001b[0m\n\u001b[0;32m     32\u001b[0m             \u001b[0mnew_cups\u001b[0m \u001b[1;33m+=\u001b[0m \u001b[0mpick_up\u001b[0m\u001b[1;33m\u001b[0m\u001b[1;33m\u001b[0m\u001b[0m\n",
      "\u001b[1;31mKeyboardInterrupt\u001b[0m: "
     ]
    }
   ],
   "source": [
    "inp = 389125467\n",
    "moves = int(1e7)\n",
    "verbose = False\n",
    "cur_i = 0\n",
    "\n",
    "cups = [int(c) for c in str(inp)]\n",
    "max_cup = max(cups)\n",
    "cups += list(range(max_cup+1, int(1e6)+1))\n",
    "\n",
    "max_cup = int(1e6)\n",
    "n_cup = len(cups)\n",
    "\n",
    "for m in range(1,moves+1) :\n",
    "    cur_cup = cups[cur_i]\n",
    "    pick_up = cups[cur_i+1 : min(n_cup, cur_i+4)] + cups[0:max(0, cur_i+4 - n_cup)]\n",
    "    destination = (cur_cup - 2) % max_cup + 1\n",
    "    while destination in pick_up :\n",
    "        destination = (destination - 2) % max_cup + 1\n",
    "    \n",
    "    if verbose : \n",
    "        print(f'--move {m}--')\n",
    "        print('cups: ' + ' '.join([f'({str(c)})' if c==cur_cup else str(c) for c in cups]))\n",
    "        print('pick up: ' + ' '.join([str(c) for c in pick_up]))\n",
    "        print(f'destination: {destination}\\n')\n",
    "    \n",
    "    new_cups = []\n",
    "    for c in cups :\n",
    "        if c in pick_up :\n",
    "            continue\n",
    "        new_cups.append(c)\n",
    "        if c == destination :\n",
    "            new_cups += pick_up\n",
    "    cups = new_cups\n",
    "    cur_i = (cups.index(cur_cup) + 1) % n_cup \n",
    "    \n",
    "    if m in [int(10**i) for i in range(8)] :\n",
    "        print(m,'done')\n",
    "\n",
    "if verbose :\n",
    "    print('--final--')\n",
    "    cur_cup = cups[cur_i]\n",
    "    print('cups: ' + ' '.join([f'({str(c)})' if c==cur_cup else str(c) for c in cups]) + '\\n')\n",
    "\n",
    "index_1 = cups.index(1)\n",
    "print('the answer is :')\n",
    "print(''.join([str(c) for c in cups[index_1+1:] + cups[:index_1]]))"
   ]
  },
  {
   "cell_type": "code",
   "execution_count": 58,
   "metadata": {
    "code_folding": []
   },
   "outputs": [
    {
     "data": {
      "text/plain": [
       "'92658374'"
      ]
     },
     "execution_count": 58,
     "metadata": {},
     "output_type": "execute_result"
    }
   ],
   "source": [
    "''.join([str(c) for c in cups[index_1+1:] + cups[:index_1]])"
   ]
  },
  {
   "cell_type": "code",
   "execution_count": 57,
   "metadata": {},
   "outputs": [
    {
     "data": {
      "text/plain": [
       "[9, 2, 6, 5, 8, 3, 7, 4]"
      ]
     },
     "execution_count": 57,
     "metadata": {},
     "output_type": "execute_result"
    }
   ],
   "source": [
    "cups[index_1+1:] + cups[:index_1]"
   ]
  },
  {
   "cell_type": "code",
   "execution_count": null,
   "metadata": {},
   "outputs": [],
   "source": []
  }
 ],
 "metadata": {
  "kernelspec": {
   "display_name": "Python 3",
   "language": "python",
   "name": "python3"
  },
  "language_info": {
   "codemirror_mode": {
    "name": "ipython",
    "version": 3
   },
   "file_extension": ".py",
   "mimetype": "text/x-python",
   "name": "python",
   "nbconvert_exporter": "python",
   "pygments_lexer": "ipython3",
   "version": "3.7.9"
  }
 },
 "nbformat": 4,
 "nbformat_minor": 4
}
