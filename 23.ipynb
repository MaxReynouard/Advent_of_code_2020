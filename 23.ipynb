{
 "cells": [
  {
   "cell_type": "code",
   "execution_count": 2,
   "metadata": {},
   "outputs": [
    {
     "name": "stdout",
     "output_type": "stream",
     "text": [
      "{\n",
      "\n",
      " \"cells\": [\n",
      "\n",
      "  {\n",
      "\n",
      "   \"cell_type\": \"markdown\",\n",
      "\n",
      "   \"metadata\": {},\n",
      "\n",
      "   \"source\": [\n",
      "\n",
      "    \"## Day 22: Crab Combat ---\\n\",\n",
      "\n",
      "    \"It only takes a few hours of sailing the ocean on a raft for boredom to sink in. Fortunately, you brought a small deck of space cards! You'd like to play a game of Combat, and there's even an opponent available: a small crab that climbed aboard your raft before you left.\\n\",\n",
      "\n",
      "    \"\\n\",\n",
      "\n",
      "    \"Fortunately, it doesn't take long to teach the crab the rules.\\n\",\n",
      "\n",
      "    \"\\n\",\n",
      "\n"
     ]
    }
   ],
   "source": [
    "with open('22.ipynb', 'r') as f :\n",
    "    i=0\n",
    "    mem = []\n",
    "    for line in f :\n",
    "        print(line)\n",
    "        i+=1\n",
    "        if i>10 :\n",
    "            break"
   ]
  },
  {
   "cell_type": "code",
   "execution_count": 3,
   "metadata": {},
   "outputs": [
    {
     "name": "stdout",
     "output_type": "stream",
     "text": [
      "{\n",
      "\n",
      " \"cells\": [\n",
      "\n",
      "  {\n",
      "\n",
      "   \"cell_type\": \"markdown\",\n",
      "\n",
      "   \"metadata\": {},\n",
      "\n",
      "   \"source\": [\n",
      "\n",
      "    \"## Day 22: Crab Combat ---\\n\",\n",
      "\n",
      "    \"It only takes a few hours of sailing the ocean on a raft for boredom to sink in. Fortunately, you brought a small deck of space cards! You'd like to play a game of Combat, and there's even an opponent available: a small crab that climbed aboard your raft before you left.\\n\",\n",
      "\n",
      "    \"\\n\",\n",
      "\n",
      "    \"Fortunately, it doesn't take long to teach the crab the rules.\\n\",\n",
      "\n",
      "    \"\\n\",\n",
      "\n"
     ]
    }
   ],
   "source": [
    "i=0\n",
    "for line in open('22.ipynb', 'r') :\n",
    "    print(line)\n",
    "    i+=1\n",
    "    if i>10 :\n",
    "        break"
   ]
  },
  {
   "cell_type": "code",
   "execution_count": 4,
   "metadata": {},
   "outputs": [],
   "source": [
    "with open('23b.ipynb', 'a') as f :\n",
    "    i = 0\n",
    "    for line in open('22.ipynb') :\n",
    "        f.write(line)\n",
    "        i+=1\n",
    "        if i > 10000:\n",
    "            break"
   ]
  },
  {
   "cell_type": "code",
   "execution_count": null,
   "metadata": {},
   "outputs": [],
   "source": []
  }
 ],
 "metadata": {
  "kernelspec": {
   "display_name": "Python 3",
   "language": "python",
   "name": "python3"
  },
  "language_info": {
   "codemirror_mode": {
    "name": "ipython",
    "version": 3
   },
   "file_extension": ".py",
   "mimetype": "text/x-python",
   "name": "python",
   "nbconvert_exporter": "python",
   "pygments_lexer": "ipython3",
   "version": "3.7.9"
  }
 },
 "nbformat": 4,
 "nbformat_minor": 4
}
