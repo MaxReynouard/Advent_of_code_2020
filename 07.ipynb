{
 "cells": [
  {
   "cell_type": "markdown",
   "metadata": {},
   "source": [
    "## Day 7: Handy Haversacks ---\n",
    "You land at the regional airport in time for your next flight. In fact, it looks like you'll even have time to grab some food: all flights are currently delayed due to issues in luggage processing.\n",
    "\n",
    "Due to recent aviation regulations, many rules (your puzzle input) are being enforced about bags and their contents; bags must be color-coded and must contain specific quantities of other color-coded bags. Apparently, nobody responsible for these regulations considered how long they would take to enforce!\n",
    "\n",
    "For example, consider the following rules:\n",
    "\n",
    "light red bags contain 1 bright white bag, 2 muted yellow bags.  \n",
    "dark orange bags contain 3 bright white bags, 4 muted yellow bags.  \n",
    "bright white bags contain 1 shiny gold bag.  \n",
    "muted yellow bags contain 2 shiny gold bags, 9 faded blue bags.  \n",
    "shiny gold bags contain 1 dark olive bag, 2 vibrant plum bags.  \n",
    "dark olive bags contain 3 faded blue bags, 4 dotted black bags.  \n",
    "vibrant plum bags contain 5 faded blue bags, 6 dotted black bags.  \n",
    "faded blue bags contain no other bags.  \n",
    "dotted black bags contain no other bags.  \n",
    "These rules specify the required contents for 9 bag types. In this example, every faded blue bag is empty, every vibrant plum bag contains 11 bags (5 faded blue and 6 dotted black), and so on.  \n",
    "\n",
    "You have a shiny gold bag. If you wanted to carry it in at least one other bag, how many different bag colors would be valid for the outermost bag? (In other words: how many colors can, eventually, contain at least one shiny gold bag?)\n",
    "\n",
    "In the above rules, the following options would be available to you:\n",
    "\n",
    "A bright white bag, which can hold your shiny gold bag directly.  \n",
    "A muted yellow bag, which can hold your shiny gold bag directly, plus some other bags.  \n",
    "A dark orange bag, which can hold bright white and muted yellow bags, either of which could then hold your shiny gold bag.  \n",
    "A light red bag, which can hold bright white and muted yellow bags, either of which could then hold your shiny gold bag.  \n",
    "So, in this example, the number of bag colors that can eventually contain at least one shiny gold bag is 4.  \n",
    "\n",
    "How many bag colors can eventually contain at least one shiny gold bag? (The list of rules is quite long; make sure you get all of it.)"
   ]
  },
  {
   "cell_type": "code",
   "execution_count": 115,
   "metadata": {},
   "outputs": [],
   "source": [
    "bag_rules_file = \"data/07_bag_rules.txt\""
   ]
  },
  {
   "cell_type": "code",
   "execution_count": 122,
   "metadata": {
    "code_folding": [
     4,
     26,
     28,
     34,
     38
    ]
   },
   "outputs": [],
   "source": [
    "# construct the color rule tree\n",
    "import re\n",
    "\n",
    "# to extract information from the lines in data file\n",
    "def format_line(line) :\n",
    "    # separation between the bag concerned by the rule and the rule\n",
    "    this_bag, other_bags = line.strip().split(' contain ')\n",
    "    this_bag = this_bag[:-5]\n",
    "    \n",
    "    # case of empty bag :\n",
    "    if other_bags == 'no other bags.' : return this_bag, {}\n",
    "         \n",
    "    # split for list of contained bags\n",
    "    other_bags = other_bags.split(', ')\n",
    "    rules_dic = {}\n",
    "    for ob in other_bags : \n",
    "        # regular expressions to find the color of the bag and the number of bags\n",
    "        ob = re.findall(r\"(.+)\\sbag\", ob)[0]\n",
    "        n = int(re.findall(r\"[0-9]+\", ob)[0])\n",
    "        bag = re.findall(r\"[a-zA-Z].*\", ob)[0]\n",
    "#         store the list of rules as a dictionnary of \n",
    "#         key, value <==> colors of bags our current bags need to contain, and number of this color it needs to contain\n",
    "        rules_dic[bag] = n\n",
    "    return this_bag, rules_dic\n",
    "\n",
    "# bag rule class to form the natural tree structure\n",
    "class bag_rule():\n",
    "#     init a node (we set the structure when reading the text file)\n",
    "    def __init__(self, color) :\n",
    "        self.color = color\n",
    "        self.children = set()\n",
    "        self.parents = set()\n",
    "        \n",
    "#     returns list of tuples (color, number) of bags this color needs to contain\n",
    "    def children_colors (self) :\n",
    "        return [(r[0].color, r[1]) for r in self.children]\n",
    "    \n",
    "#     returns the list of ags color that have to contain a bag of the color of this rule\n",
    "    def parents_colors (self) :\n",
    "        return [r.color for r in self.parents]\n",
    "        \n",
    "with open (bag_rules_file, \"r\") as bag_rules :\n",
    "    \n",
    "#     a dictionnary allowing us to get a bag_rule from a color string\n",
    "    color_to_rule = {}\n",
    "#     the colors listed in other rules but without a rule yet\n",
    "    no_rules_yet = set()\n",
    "#     the rules we have already done \n",
    "    done = set()\n",
    "    \n",
    "    # loop on lines\n",
    "    for line in bag_rules :\n",
    "#         parse the line, get the bag_rule object\n",
    "        this_bag, rule_dic = format_line(line)\n",
    "        this_rule = color_to_rule.get(this_bag, bag_rule(this_bag))\n",
    "        \n",
    "#         loop on children to set the bag_rule structures\n",
    "        for color, n  in rule_dic.items() :\n",
    "#         set the bag_rule tree structure\n",
    "            rule = color_to_rule.get(color, bag_rule(color))\n",
    "            this_rule.children.add((rule,n))\n",
    "            rule.parents.add(this_rule)\n",
    "#             store in the dictionnary to find rules easily\n",
    "            color_to_rule[color] = rule\n",
    "#             store the colors we have seen but not treated yet\n",
    "            if color not in done : no_rules_yet.add(color)\n",
    "            \n",
    "#         manage our sets\n",
    "        done.add(this_bag)\n",
    "        no_rules_yet.discard(this_bag)\n",
    "#         store in the dictionnary to find rules easily\n",
    "        color_to_rule[this_bag] = this_rule\n",
    "\n",
    "print(f'we treated')"
   ]
  },
  {
   "cell_type": "code",
   "execution_count": 123,
   "metadata": {
    "code_folding": []
   },
   "outputs": [
    {
     "name": "stdout",
     "output_type": "stream",
     "text": [
      "the number of bags that can recursively contain a shiny gold bag is : 300\n"
     ]
    }
   ],
   "source": [
    "# to answer the question :\n",
    "color_init = 'shiny gold'\n",
    "\n",
    "\n",
    "to_visit = set(color_to_rule[color_init].parents_colors())\n",
    "visited = set()\n",
    "\n",
    "while to_visit : \n",
    "    color = to_visit.pop()\n",
    "    visited.add(color)\n",
    "    for c in color_to_rule[color].parents_colors():\n",
    "        if c not in visited : \n",
    "            to_visit.add(c)\n",
    "print(f\"the number of bags that can recursively contain a {color_init} bag is : {len(visited)}\")"
   ]
  },
  {
   "cell_type": "markdown",
   "metadata": {},
   "source": [
    "## Part Two ---\n",
    "It's getting pretty expensive to fly these days - not because of ticket prices, but because of the ridiculous number of bags you need to buy!\n",
    "\n",
    "Consider again your shiny gold bag and the rules from the above example:\n",
    "\n",
    "faded blue bags contain 0 other bags.  \n",
    "dotted black bags contain 0 other bags.  \n",
    "vibrant plum bags contain 11 other bags: 5 faded blue bags and 6 dotted black bags.  \n",
    "dark olive bags contain 7 other bags: 3 faded blue bags and 4 dotted black bags.  \n",
    "So, a single shiny gold bag must contain 1 dark olive bag (and the 7 bags within it) plus 2 vibrant plum bags (and the 11 bags within each of those): 1 + 1*7 + 2 + 2*11 = 32 bags!  \n",
    "\n",
    "Of course, the actual rules have a small chance of going several levels deeper than this example; be sure to count all of the bags, even if the nesting becomes topologically impractical!  \n",
    "\n",
    "Here's another example:  \n",
    "\n",
    "shiny gold bags contain 2 dark red bags.  \n",
    "dark red bags contain 2 dark orange bags.  \n",
    "dark orange bags contain 2 dark yellow bags.  \n",
    "dark yellow bags contain 2 dark green bags.  \n",
    "dark green bags contain 2 dark blue bags.  \n",
    "dark blue bags contain 2 dark violet bags.  \n",
    "dark violet bags contain no other bags.  \n",
    "In this example, a single shiny gold bag must contain 126 other bags.  \n",
    "\n",
    "How many individual bags are required inside your single shiny gold bag?"
   ]
  },
  {
   "cell_type": "code",
   "execution_count": 124,
   "metadata": {},
   "outputs": [
    {
     "name": "stdout",
     "output_type": "stream",
     "text": [
      "the number of bags that a shiny gold has to contain is : 8030\n"
     ]
    }
   ],
   "source": [
    "# to answer the question :\n",
    "color_init = 'shiny gold'\n",
    "\n",
    "\n",
    "to_go_back_up = [color_init]\n",
    "tot_bags = {}\n",
    "\n",
    "while to_go_back_up : \n",
    "    if to_go_back_up[-1] in tot_bags.keys() :\n",
    "        to_go_back_up.pop()\n",
    "        continue\n",
    "    \n",
    "    cur_rule = color_to_rule[to_go_back_up[-1]]\n",
    "    cur_children = cur_rule.children_colors()\n",
    "    \n",
    "    all_children_calc = True\n",
    "    count = 0\n",
    "    for child_color, child_n in cur_children :\n",
    "        if child_color not in tot_bags.keys() :\n",
    "            all_children_calc = False\n",
    "            to_go_back_up.append(child_color)\n",
    "        else:\n",
    "            count += (tot_bags[child_color] + 1) * child_n\n",
    "    \n",
    "    if all_children_calc :\n",
    "        tot_bags[to_go_back_up.pop()] = count\n",
    "        \n",
    "print(f\"the number of bags that a {color_init} has to contain is : {tot_bags[color_init]}\")"
   ]
  },
  {
   "cell_type": "code",
   "execution_count": null,
   "metadata": {},
   "outputs": [],
   "source": []
  },
  {
   "cell_type": "code",
   "execution_count": null,
   "metadata": {},
   "outputs": [],
   "source": []
  },
  {
   "cell_type": "code",
   "execution_count": null,
   "metadata": {},
   "outputs": [],
   "source": []
  }
 ],
 "metadata": {
  "kernelspec": {
   "display_name": "Python 3",
   "language": "python",
   "name": "python3"
  },
  "language_info": {
   "codemirror_mode": {
    "name": "ipython",
    "version": 3
   },
   "file_extension": ".py",
   "mimetype": "text/x-python",
   "name": "python",
   "nbconvert_exporter": "python",
   "pygments_lexer": "ipython3",
   "version": "3.7.9"
  }
 },
 "nbformat": 4,
 "nbformat_minor": 4
}
